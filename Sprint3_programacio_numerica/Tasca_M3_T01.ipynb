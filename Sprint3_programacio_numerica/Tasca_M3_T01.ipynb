{
 "cells": [
  {
   "cell_type": "markdown",
   "id": "0418d557",
   "metadata": {},
   "source": [
    "## Exercici 1\n",
    "Crea una funció que donat un Array d’una dimensió, et faci un resum estadístic bàsic de les dades.\n",
    "Si detecta que l’array té més d’una dimensió, ha de mostrar un missatge d’error."
   ]
  },
  {
   "cell_type": "code",
   "execution_count": 14,
   "id": "a62c6a63",
   "metadata": {},
   "outputs": [
    {
     "data": {
      "text/plain": [
       "('Maximo 89',\n",
       " 'Minimo 0',\n",
       " 'Media 17.333333333333332',\n",
       " 'Mediana 4.0',\n",
       " 'Desviación estandar  27.668674625929512')"
      ]
     },
     "execution_count": 14,
     "metadata": {},
     "output_type": "execute_result"
    }
   ],
   "source": [
    "import numpy as np\n",
    "from numpy import random\n",
    "\n",
    "def resumenEstadistico(array):\n",
    "    if array.ndim > 1:\n",
    "        return 'Error: el array tienes más de una dimensión'\n",
    "    else:\n",
    "        valorMax = np.max(array)\n",
    "        valorMin = np.min(array)\n",
    "        media = np.mean(array)\n",
    "        mediana = np.median(array)\n",
    "        desviacionEstandar = np.std(array)\n",
    "        return 'Maximo ' + str(valorMax), 'Minimo ' + str(valorMin), 'Media ' + str(media), 'Mediana ' + str(mediana), 'Desviación estandar  ' + str(desviacionEstandar)\n",
    "\n",
    "array1d = np.array([1,3,4,1,11,89,0,38,9])  \n",
    "resumenEstadistico(array1d)"
   ]
  },
  {
   "cell_type": "markdown",
   "id": "e8b01c35",
   "metadata": {},
   "source": [
    "## Exercici 2\n",
    "Crea una funció que et generi un quadrat NxN de nombres aleatoris entre el 0 i el 100."
   ]
  },
  {
   "cell_type": "code",
   "execution_count": 3,
   "id": "37ec1d86",
   "metadata": {},
   "outputs": [
    {
     "name": "stdout",
     "output_type": "stream",
     "text": [
      "[[49 16  8 15]\n",
      " [41 71 93 20]\n",
      " [ 5 98 18 91]\n",
      " [ 4 47 44 64]]\n"
     ]
    }
   ],
   "source": [
    "from numpy import random\n",
    "\n",
    "def quadratNN(num):\n",
    "    nnArray = random.randint(100, size=(num, num))\n",
    "    return(nnArray)\n",
    "    \n",
    "print(quadratNN(4))\n"
   ]
  },
  {
   "cell_type": "markdown",
   "id": "b4119ae9",
   "metadata": {},
   "source": [
    "## Exercici 3\n",
    "Crea una funció que donada una taula de dues dimensions (NxM), et calculi els totals per fila i els totals per columna."
   ]
  },
  {
   "cell_type": "code",
   "execution_count": 8,
   "id": "a18c904f",
   "metadata": {},
   "outputs": [
    {
     "name": "stdout",
     "output_type": "stream",
     "text": [
      "[[ 2 78  5]\n",
      " [19 26 37]\n",
      " [26 15 49]\n",
      " [40 43 23]\n",
      " [51 85 40]]\n",
      "('Suma de las filas: [ 85  82  90 106 176]', 'Suma de las columnas[138 247 154]')\n"
     ]
    }
   ],
   "source": [
    "import numpy as np\n",
    "\n",
    "def totalFilasColumnas(taula):\n",
    "    sumaColumna = taula.sum(axis=0)\n",
    "    sumaFila =taula.sum(axis=1)\n",
    "    return 'Suma de las filas: ' + str(sumaFila), 'Suma de las columnas' + str(sumaColumna)\n",
    "\n",
    "nmArray = random.randint(100, size=(5, 3)) \n",
    "print(totalFilasColumnas(nmArray))\n"
   ]
  },
  {
   "cell_type": "markdown",
   "id": "bb3b3d31",
   "metadata": {},
   "source": [
    "## Exercici 4\n",
    "Implementa manualment una funció que calculi el coeficient de correlació. Informa-te'n sobre els seus usos i interpretació."
   ]
  },
  {
   "cell_type": "code",
   "execution_count": 9,
   "id": "efc9e9c8",
   "metadata": {},
   "outputs": [
    {
     "data": {
      "text/plain": [
       "1.0"
      ]
     },
     "execution_count": 9,
     "metadata": {},
     "output_type": "execute_result"
    }
   ],
   "source": [
    "import numpy as np\n",
    "\n",
    "def coeficientCorrelacio (arr1,arr2):\n",
    "    #NUMERADOR\n",
    "    mediaArr1 =arr1.mean()\n",
    "    mediaArr2 = arr2.mean()\n",
    "\n",
    "    distanciaArr1 = arr1 - mediaArr1\n",
    "    distanciaArr2 = arr2 - mediaArr2\n",
    "    \n",
    "    #suma de los productos\n",
    "    productos = np.prod([distanciaArr1, distanciaArr2], axis = 0)\n",
    "    numerador= np.sum(productos)\n",
    "    \n",
    "    #DENOMINAR\n",
    "    sumaCuadrados= (np.sum(distanciaArr1**2)*(np.sum(distanciaArr2**2)))\n",
    "    denominador = np.sqrt(sumaCuadrados)\n",
    "\n",
    "    #CORRELACION\n",
    "    correlacion = numerador/denominador\n",
    "    \n",
    "    return correlacion\n",
    "\n",
    "\n",
    "ventaHelados = np.array([3,6,9])#arr1\n",
    "tempF =np.array([70,75,80])#arr2\n",
    "\n",
    "coeficientCorrelacio (ventaHelados,tempF)\n"
   ]
  }
 ],
 "metadata": {
  "kernelspec": {
   "display_name": "Python 3 (ipykernel)",
   "language": "python",
   "name": "python3"
  },
  "language_info": {
   "codemirror_mode": {
    "name": "ipython",
    "version": 3
   },
   "file_extension": ".py",
   "mimetype": "text/x-python",
   "name": "python",
   "nbconvert_exporter": "python",
   "pygments_lexer": "ipython3",
   "version": "3.10.9"
  }
 },
 "nbformat": 4,
 "nbformat_minor": 5
}
