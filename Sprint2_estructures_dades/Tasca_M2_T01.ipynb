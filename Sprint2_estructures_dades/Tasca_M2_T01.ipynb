{
 "cells": [
  {
   "cell_type": "markdown",
   "id": "30db2763",
   "metadata": {},
   "source": [
    "## Exercici 1: Crea una llista que agrupi els mesos de l’any en trimestres "
   ]
  },
  {
   "cell_type": "code",
   "execution_count": null,
   "id": "8f79e9c5",
   "metadata": {},
   "outputs": [],
   "source": [
    "any = [\n",
    "    [\"Enero\",\"Febrero\",\"Marzo\"],\n",
    "    [\"Abril\", \"Mayo\", \"Junio\"],\n",
    "    [\"Julio\", \"Agosto\", \"Septiembre\"],\n",
    "    [\"Octubre\", \"Noviembre\", \"Diciembre\"]\n",
    "]"
   ]
  },
  {
   "cell_type": "markdown",
   "id": "663baf6c",
   "metadata": {},
   "source": [
    "## Ecercici2: Crea un codi que et permeti accedir a: \n",
    "* El segon mes del primer trimestre."
   ]
  },
  {
   "cell_type": "code",
   "execution_count": 2,
   "id": "15963b0c",
   "metadata": {},
   "outputs": [
    {
     "name": "stdout",
     "output_type": "stream",
     "text": [
      "El segon mes del primer trimestre es  Febrero\n"
     ]
    }
   ],
   "source": [
    "print(\"El segon mes del primer trimestre es \", any[0][1]) "
   ]
  },
  {
   "cell_type": "markdown",
   "id": "d73e52ce",
   "metadata": {},
   "source": [
    "* Els mesos del primer trimestre."
   ]
  },
  {
   "cell_type": "code",
   "execution_count": 3,
   "id": "6b0dc79d",
   "metadata": {},
   "outputs": [
    {
     "name": "stdout",
     "output_type": "stream",
     "text": [
      "mesos del primer trimestre ['Enero', 'Febrero', 'Marzo']\n"
     ]
    }
   ],
   "source": [
    "print(\"mesos del primer trimestre\", any[0])"
   ]
  },
  {
   "cell_type": "markdown",
   "id": "afda3d4c",
   "metadata": {},
   "source": [
    "* Setembre i octubre"
   ]
  },
  {
   "cell_type": "code",
   "execution_count": 11,
   "id": "c65f63b2",
   "metadata": {},
   "outputs": [
    {
     "name": "stdout",
     "output_type": "stream",
     "text": [
      "Septiembre i Octubre\n"
     ]
    }
   ],
   "source": [
    "print(any[2][2], \"i\", any[3][0])"
   ]
  },
  {
   "cell_type": "markdown",
   "id": "9b67bbb6",
   "metadata": {},
   "source": [
    "## Exercici 3\n",
    "Crea una llista amb nombres desordenats i respon a les següents preguntes:"
   ]
  },
  {
   "cell_type": "code",
   "execution_count": 13,
   "id": "c172b5c9",
   "metadata": {},
   "outputs": [],
   "source": [
    "num = [5,12,8,0,1,6,7,66,14,52,59,6,3,0,4,5,8,25,93,3,86,4,1,4,7,8,9,51,23,2,62,56,5,10]"
   ]
  },
  {
   "cell_type": "markdown",
   "id": "826529fb",
   "metadata": {},
   "source": [
    "* Quants números hi ha?"
   ]
  },
  {
   "cell_type": "code",
   "execution_count": 25,
   "id": "c04f1d3c",
   "metadata": {},
   "outputs": [
    {
     "name": "stdout",
     "output_type": "stream",
     "text": [
      "hi ha 34 números.\n"
     ]
    }
   ],
   "source": [
    "print(\"hi ha\", len(num), \"números.\")"
   ]
  },
  {
   "cell_type": "markdown",
   "id": "6771ddef",
   "metadata": {},
   "source": [
    "* Quantes vegades apareix el número 3."
   ]
  },
  {
   "cell_type": "code",
   "execution_count": 26,
   "id": "2083cd06",
   "metadata": {},
   "outputs": [
    {
     "name": "stdout",
     "output_type": "stream",
     "text": [
      "el número 3 aparaeix 2 vegades.\n"
     ]
    }
   ],
   "source": [
    "print(\"el número 3 aparaeix\",num.count(3), \"vegades.\")"
   ]
  },
  {
   "cell_type": "markdown",
   "id": "01251f74",
   "metadata": {},
   "source": [
    "* Quantes vegades apareixen els nombres 3 i 4?"
   ]
  },
  {
   "cell_type": "code",
   "execution_count": 23,
   "id": "358fc54b",
   "metadata": {},
   "outputs": [
    {
     "name": "stdout",
     "output_type": "stream",
     "text": [
      "el número 3 i 4 apareixen 5 vegades.\n"
     ]
    }
   ],
   "source": [
    "print(\"el número 3 i 4 apareixen\",num.count(3) + num.count(4), \"vegades.\")"
   ]
  },
  {
   "cell_type": "markdown",
   "id": "59379a8d",
   "metadata": {},
   "source": [
    "* Quin és el número més gran?"
   ]
  },
  {
   "cell_type": "code",
   "execution_count": 20,
   "id": "4a433159",
   "metadata": {},
   "outputs": [
    {
     "name": "stdout",
     "output_type": "stream",
     "text": [
      "número més gran és  93\n"
     ]
    }
   ],
   "source": [
    "num.sort()\n",
    "print(\"número més gran és \" , num[-1])"
   ]
  },
  {
   "cell_type": "markdown",
   "id": "548ca2e5",
   "metadata": {},
   "source": [
    "* Quins són els 3 números més petits?"
   ]
  },
  {
   "cell_type": "code",
   "execution_count": 18,
   "id": "6e5fdd4a",
   "metadata": {},
   "outputs": [
    {
     "name": "stdout",
     "output_type": "stream",
     "text": [
      "els 3 números més petits:  [0, 0, 1]\n"
     ]
    }
   ],
   "source": [
    "print(\"els 3 números més petits: \", num[0:3])"
   ]
  },
  {
   "cell_type": "markdown",
   "id": "bac96ac6",
   "metadata": {},
   "source": [
    "* Quin és el rang d’aquesta llista?"
   ]
  },
  {
   "cell_type": "code",
   "execution_count": 29,
   "id": "fe595e8e",
   "metadata": {},
   "outputs": [
    {
     "name": "stdout",
     "output_type": "stream",
     "text": [
      "Rango de la lista es del  93\n"
     ]
    }
   ],
   "source": [
    "print(\"Rango de la lista es de \", num[-1] - num[0] )"
   ]
  },
  {
   "cell_type": "markdown",
   "id": "dea077db",
   "metadata": {},
   "source": [
    "## Exercici 4\n",
    "Crea un diccionari de la següent forma i respon a les preguntes:"
   ]
  },
  {
   "cell_type": "code",
   "execution_count": 23,
   "id": "9176b847",
   "metadata": {},
   "outputs": [
    {
     "name": "stdout",
     "output_type": "stream",
     "text": [
      "{'Pomes': {'Qty': 5, '€': 0.42}, 'Peres': {'Qty': 3, '€': 0.66}}\n"
     ]
    }
   ],
   "source": [
    "compra = { \"Pomes\" : {\"Qty\": 5, \"€\": 0.42}, \"Peres\" : {\"Qty\": 3, \"€\": 0.66} }\n",
    "print(compra)"
   ]
  },
  {
   "cell_type": "markdown",
   "id": "c2d471c4",
   "metadata": {},
   "source": [
    "* Afegeix alguna fruita més"
   ]
  },
  {
   "cell_type": "code",
   "execution_count": 19,
   "id": "c5ae23b5",
   "metadata": {},
   "outputs": [
    {
     "name": "stdout",
     "output_type": "stream",
     "text": [
      "{'Pomes': {'Qty': 5, '€': 0.42}, 'Peres': {'Qty': 3, '€': 0.66}, 'Kiwi': {'Qty': 5, '€': 0.42}}\n"
     ]
    }
   ],
   "source": [
    "compra[\"Kiwi\"] =  {\"Qty\": 5,\"€\": 0.42}\n",
    "print(compra)"
   ]
  },
  {
   "cell_type": "markdown",
   "id": "df246ba0",
   "metadata": {},
   "source": [
    "* Quant han costat les peres en total?"
   ]
  },
  {
   "cell_type": "code",
   "execution_count": 31,
   "id": "b336482f",
   "metadata": {},
   "outputs": [
    {
     "name": "stdout",
     "output_type": "stream",
     "text": [
      "{'Pomes': {'Qty': 5, '€': 0.42}, 'Peres': {'Qty': 3, '€': 0.66}}\n",
      "preu total peres= 1.98\n"
     ]
    }
   ],
   "source": [
    "print(\"preu total peres=\" , compra[\"Peres\"][\"Qty\"]*compra[\"Peres\"][\"€\"])"
   ]
  },
  {
   "cell_type": "markdown",
   "id": "74674546",
   "metadata": {},
   "source": [
    "* Quantes fruites hem comprat en total?"
   ]
  },
  {
   "cell_type": "code",
   "execution_count": 6,
   "id": "a4af9757",
   "metadata": {},
   "outputs": [
    {
     "name": "stdout",
     "output_type": "stream",
     "text": [
      "8\n"
     ]
    }
   ],
   "source": [
    "def sumaFrutas (compra):\n",
    "    suma = 0\n",
    "    for x in compra:\n",
    "        suma +=compra[x][\"Qty\"]\n",
    "    print(suma)\n",
    "\n",
    "\n",
    "compra = { \"Pomes\" : {\"Qty\": 5, \"€\": 0.42}, \"Peres\" : {\"Qty\": 3, \"€\": 0.66} }\n",
    "sumaFrutas(compra)"
   ]
  },
  {
   "cell_type": "markdown",
   "id": "da4ddd99",
   "metadata": {},
   "source": [
    "* Quina és la fruita més cara?"
   ]
  },
  {
   "cell_type": "code",
   "execution_count": 10,
   "id": "c83a82b0",
   "metadata": {},
   "outputs": [
    {
     "name": "stdout",
     "output_type": "stream",
     "text": [
      "Peres\n"
     ]
    }
   ],
   "source": [
    "def frutaMasCara (compra):\n",
    "    precio = 0;\n",
    "    for x in compra:\n",
    "        if compra[x][\"€\"] > precio:\n",
    "            precio = compra[x][\"€\"]\n",
    "    print (x)\n",
    "    \n",
    "frutaMasCara(compra)"
   ]
  }
 ],
 "metadata": {
  "kernelspec": {
   "display_name": "Python 3 (ipykernel)",
   "language": "python",
   "name": "python3"
  },
  "language_info": {
   "codemirror_mode": {
    "name": "ipython",
    "version": 3
   },
   "file_extension": ".py",
   "mimetype": "text/x-python",
   "name": "python",
   "nbconvert_exporter": "python",
   "pygments_lexer": "ipython3",
   "version": "3.10.9"
  }
 },
 "nbformat": 4,
 "nbformat_minor": 5
}
