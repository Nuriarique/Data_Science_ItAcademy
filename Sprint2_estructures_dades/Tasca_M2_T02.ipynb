{
 "cells": [
  {
   "cell_type": "code",
   "execution_count": 10,
   "id": "047e0d5e",
   "metadata": {},
   "outputs": [
    {
     "name": "stdout",
     "output_type": "stream",
     "text": [
      "Notable\n"
     ]
    }
   ],
   "source": [
    "# Exercici 1: \n",
    "#L'exercici consisteix a crear un programa que et classifiqui una variable numèrica en funció de l’escala\n",
    "    #Suspès < 5\n",
    "    #Aprovat > 5 i < 7\n",
    "    #Notable > 7 i < 9 \n",
    "    #Excel·lent > 9.\n",
    "    \n",
    "def nota(num):\n",
    "    if num <5:\n",
    "        return('Suspès')\n",
    "    elif  num >= 5 and num <7:\n",
    "        return('Aprovat')\n",
    "    elif num >= 7 and num <9:\n",
    "        return('Notable')\n",
    "    else:\n",
    "        return('Excel·lent')\n",
    "\n",
    "print(nota(8))"
   ]
  },
  {
   "cell_type": "code",
   "execution_count": 28,
   "id": "bd6470e8",
   "metadata": {},
   "outputs": [
    {
     "name": "stdout",
     "output_type": "stream",
     "text": [
      "Introduce un número: 1\n",
      "Introduce otro número: 2\n"
     ]
    },
    {
     "data": {
      "text/plain": [
       "'el segundo número es mayor'"
      ]
     },
     "execution_count": 28,
     "metadata": {},
     "output_type": "execute_result"
    }
   ],
   "source": [
    "#Exercici 2 : \n",
    "#Utilitzant el següent tutorial crea un programa que et pregunti dos números.\n",
    "#T’ha de mostrar un missatge dient si el primer és més gran, el segon és més gran o són iguals.\n",
    "\n",
    "def mayorIgual():\n",
    "    a = int(input('Introduce un número: '))\n",
    "    b = int(input('Introduce otro número: '))\n",
    "\n",
    "    if a > b:\n",
    "        return(\"el primer número es mayor\")\n",
    "    elif a == b:\n",
    "        return (\"los números son iguales\")\n",
    "    else:\n",
    "        return(\"el segundo número es mayor\")\n",
    "    \n",
    "mayorIgual()\n"
   ]
  },
  {
   "cell_type": "code",
   "execution_count": 12,
   "id": "6d13651b",
   "metadata": {},
   "outputs": [
    {
     "name": "stdout",
     "output_type": "stream",
     "text": [
      "Introduce tu nombre: Nana\n",
      "Introduce un número: 5\n"
     ]
    },
    {
     "data": {
      "text/plain": [
       "['Nana', 'Nana', 'Nana', 'Nana', 'Nana']"
      ]
     },
     "execution_count": 12,
     "metadata": {},
     "output_type": "execute_result"
    }
   ],
   "source": [
    "# Exercici 3\n",
    "#Crea un programa que et pregunti el teu nom, i et demani un número. \n",
    "#Si el número és 0, hauria de mostrar un missatge d’error. \n",
    "#En cas contrari, hauria de mostrar el nom repetit tants cops com indiqui el número. Per exemple, “Joan Joan Joan”.\n",
    "\n",
    "def repetirNombre():\n",
    "    nombre = input('Introduce tu nombre: ')\n",
    "    num = int(input('Introduce un número: '))\n",
    "    repeticion = []\n",
    "    \n",
    "    if num == 0:\n",
    "        return ('Error')\n",
    "    else:\n",
    "        i = 1\n",
    "        while i <= num:\n",
    "            repeticion.append(nombre)\n",
    "            i+=1\n",
    "        return repeticion\n",
    "    \n",
    "repetirNombre()"
   ]
  },
  {
   "cell_type": "code",
   "execution_count": 45,
   "id": "9a7bc8b0",
   "metadata": {},
   "outputs": [
    {
     "name": "stdout",
     "output_type": "stream",
     "text": [
      "[1, 2, 5, 5, 1, 2, 1]\n"
     ]
    },
    {
     "data": {
      "text/plain": [
       "'La lista no es simétrica'"
      ]
     },
     "execution_count": 45,
     "metadata": {},
     "output_type": "execute_result"
    }
   ],
   "source": [
    "#Exercici 4\n",
    "#Crea un programa que donada una llista qualsevol, et digui si és simètrica o no. \n",
    "#Si ho és, que et digui quants elements té.\n",
    "\n",
    "def listaSimetrica (lista):\n",
    "    copia= lista.copy()\n",
    "    copia.reverse()\n",
    "      \n",
    "    if lista != copia:\n",
    "        return ('La lista no es simétrica')\n",
    "    else:\n",
    "        long = len(lista)\n",
    "        return ('La lista es simétrica y tiene', long, 'elementos.')\n",
    "    \n",
    "lista = [1,2,1,5,5,2,1,]    \n",
    "listaSimetrica(lista)\n"
   ]
  },
  {
   "cell_type": "code",
   "execution_count": 11,
   "id": "645e2e5e",
   "metadata": {},
   "outputs": [
    {
     "name": "stdout",
     "output_type": "stream",
     "text": [
      "los números que coinciden con la posición son: [0, 2, 3]\n"
     ]
    }
   ],
   "source": [
    "#Exercici 5\n",
    "#Crea un programa que donada una llista, et digui quants números coincideixen amb la seva posició.\n",
    "\n",
    "lista=[0,2,2,3]\n",
    "\n",
    "def coincidePosicion (lista):\n",
    "    coincidencias = []\n",
    "    i=0\n",
    "    for x in lista:\n",
    "        if x == i:\n",
    "            coincidencias.append(x)\n",
    "            i+=1 \n",
    "        else:\n",
    "            i+=1\n",
    "    print ('los números que coinciden con la posición son:',coincidencias)   \n",
    "\n",
    "coincidePosicion(lista)\n"
   ]
  }
 ],
 "metadata": {
  "kernelspec": {
   "display_name": "Python 3 (ipykernel)",
   "language": "python",
   "name": "python3"
  },
  "language_info": {
   "codemirror_mode": {
    "name": "ipython",
    "version": 3
   },
   "file_extension": ".py",
   "mimetype": "text/x-python",
   "name": "python",
   "nbconvert_exporter": "python",
   "pygments_lexer": "ipython3",
   "version": "3.10.9"
  }
 },
 "nbformat": 4,
 "nbformat_minor": 5
}
