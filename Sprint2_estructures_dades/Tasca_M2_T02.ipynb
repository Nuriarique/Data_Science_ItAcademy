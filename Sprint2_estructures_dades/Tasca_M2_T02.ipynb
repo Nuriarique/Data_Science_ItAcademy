{
 "cells": [
  {
   "cell_type": "markdown",
   "id": "4488c6f5",
   "metadata": {},
   "source": [
    "## Exercici 1: \n",
    "L'exercici consisteix a crear un programa que et classifiqui una variable numèrica en funció de l’escala\n",
    "* Suspès < 5\n",
    "* Aprovat > 5 i < 7\n",
    "* Notable > 7 i < 9 \n",
    "* Excel·lent > 9."
   ]
  },
  {
   "cell_type": "code",
   "execution_count": 2,
   "id": "047e0d5e",
   "metadata": {},
   "outputs": [
    {
     "name": "stdout",
     "output_type": "stream",
     "text": [
      "Suspès\n"
     ]
    }
   ],
   "source": [
    "def nota(num):\n",
    "    if num <5:\n",
    "        print('Suspès')\n",
    "    elif  num <7:\n",
    "        print('Aprovat')\n",
    "    elif  num <9:\n",
    "        print('Notable')\n",
    "    else:\n",
    "        print('Excel·lent')\n",
    "\n",
    "nota(1)"
   ]
  },
  {
   "cell_type": "markdown",
   "id": "0670bcd6",
   "metadata": {},
   "source": [
    "## Exercici 2 : \n",
    "Utilitzant el següent tutorial crea un programa que et pregunti dos números.T’ha de mostrar un missatge dient si el primer és més gran, el segon és més gran o són iguals."
   ]
  },
  {
   "cell_type": "code",
   "execution_count": 4,
   "id": "bd6470e8",
   "metadata": {},
   "outputs": [
    {
     "name": "stdout",
     "output_type": "stream",
     "text": [
      "Introduce un número: 3\n",
      "Introduce otro número: 8\n"
     ]
    },
    {
     "data": {
      "text/plain": [
       "'el segundo número es mayor'"
      ]
     },
     "execution_count": 4,
     "metadata": {},
     "output_type": "execute_result"
    }
   ],
   "source": [
    "def mayorIgual():\n",
    "    a = int(input('Introduce un número: '))\n",
    "    b = int(input('Introduce otro número: '))\n",
    "\n",
    "    if a > b:\n",
    "        return(\"el primer número es mayor\")\n",
    "    elif a == b:\n",
    "        return (\"los números son iguales\")\n",
    "    else:\n",
    "        return(\"el segundo número es mayor\")\n",
    "    \n",
    "mayorIgual()"
   ]
  },
  {
   "cell_type": "markdown",
   "id": "3fd23d69",
   "metadata": {},
   "source": [
    "## Exercici 3\n",
    "Crea un programa que et pregunti el teu nom, i et demani un número. \n",
    "Si el número és 0, hauria de mostrar un missatge d’error. \n",
    "En cas contrari, hauria de mostrar el nom repetit tants cops com indiqui el número. Per exemple, “Joan Joan Joan”."
   ]
  },
  {
   "cell_type": "code",
   "execution_count": 13,
   "id": "6d13651b",
   "metadata": {},
   "outputs": [
    {
     "name": "stdout",
     "output_type": "stream",
     "text": [
      "Introduce tu nombre: nana\n",
      "Introduce un número: 3\n",
      "['nana', 'nana', 'nana']\n"
     ]
    }
   ],
   "source": [
    "def repetirNombre():\n",
    "    nombre = input('Introduce tu nombre: ')\n",
    "    num = int(input('Introduce un número: '))\n",
    "     \n",
    "    if num == 0:\n",
    "        print ('Error')\n",
    "    else:\n",
    "         print ([nombre] * num)\n",
    "    \n",
    "repetirNombre()"
   ]
  },
  {
   "cell_type": "markdown",
   "id": "414d89fc",
   "metadata": {},
   "source": [
    "## Exercici 4\n",
    "Crea un programa que donada una llista qualsevol, et digui si és simètrica o no. \n",
    "Si ho és, que et digui quants elements té."
   ]
  },
  {
   "cell_type": "code",
   "execution_count": 11,
   "id": "9a7bc8b0",
   "metadata": {},
   "outputs": [
    {
     "name": "stdout",
     "output_type": "stream",
     "text": [
      "La lista es simétrica y tiene 6 elementos.\n"
     ]
    }
   ],
   "source": [
    "def listaSimetrica (lista):\n",
    "    copia= lista.copy()\n",
    "    copia.reverse()\n",
    "      \n",
    "    if lista != copia:\n",
    "        print ('La lista no es simétrica')\n",
    "    else:\n",
    "        long = len(lista)\n",
    "        print ('La lista es simétrica y tiene', long, 'elementos.')\n",
    "    \n",
    "lista = [1,2,5,5,2,1,]    \n",
    "listaSimetrica(lista)\n"
   ]
  },
  {
   "cell_type": "markdown",
   "id": "9e630291",
   "metadata": {},
   "source": [
    "## Exercici 5\n",
    "Crea un programa que donada una llista, et digui quants números coincideixen amb la seva posició."
   ]
  },
  {
   "cell_type": "code",
   "execution_count": 44,
   "id": "645e2e5e",
   "metadata": {},
   "outputs": [
    {
     "name": "stdout",
     "output_type": "stream",
     "text": [
      "los números que coinciden con la posición son: [0, 1, 2, 3, 4]\n",
      "los números que coinciden con la posición son: [1, 3, 6]\n"
     ]
    }
   ],
   "source": [
    "def coincidePosicion (lista):\n",
    "    coincidencias = []\n",
    "    x = range(len(lista))\n",
    "    for n in x:\n",
    "        if n == lista[n]:\n",
    "            coincidencias.append(lista[n])\n",
    "    print ('los números que coinciden con la posición son:',coincidencias)   \n",
    "\n",
    "lista=[0,1,2,3,4]\n",
    "coincidePosicion(lista)\n",
    "\n",
    "lista2=[8,1,7,3,5,1,6]\n",
    "coincidePosicion(lista2)"
   ]
  }
 ],
 "metadata": {
  "kernelspec": {
   "display_name": "Python 3 (ipykernel)",
   "language": "python",
   "name": "python3"
  },
  "language_info": {
   "codemirror_mode": {
    "name": "ipython",
    "version": 3
   },
   "file_extension": ".py",
   "mimetype": "text/x-python",
   "name": "python",
   "nbconvert_exporter": "python",
   "pygments_lexer": "ipython3",
   "version": "3.10.9"
  }
 },
 "nbformat": 4,
 "nbformat_minor": 5
}
