{
 "cells": [
  {
   "cell_type": "code",
   "execution_count": 1,
   "id": "41ffd430",
   "metadata": {},
   "outputs": [],
   "source": [
    "#Exercici 1: Crea una llista que agrupi els mesos de l’any en trimestres \n",
    "any = [\n",
    "    [\"Enero\",\"Febrero\",\"Marzo\"],\n",
    "    [\"Abril\", \"Mayo\", \"Junio\"],\n",
    "    [\"Julio\", \"Agosto\", \"Septiembre\"],\n",
    "    [\"Octubre\", \"Noviembre\", \"Diciembre\"]\n",
    "]"
   ]
  },
  {
   "cell_type": "code",
   "execution_count": 2,
   "id": "15963b0c",
   "metadata": {},
   "outputs": [
    {
     "name": "stdout",
     "output_type": "stream",
     "text": [
      "El segon mes del primer trimestre es  Febrero\n"
     ]
    }
   ],
   "source": [
    "#Ecercici2: Crea un codi que et permeti accedir a: \n",
    "# El segon mes del primer trimestre.\n",
    "print(\"El segon mes del primer trimestre es \", any[0][1]) "
   ]
  },
  {
   "cell_type": "code",
   "execution_count": 3,
   "id": "6b0dc79d",
   "metadata": {},
   "outputs": [
    {
     "name": "stdout",
     "output_type": "stream",
     "text": [
      "mesos del primer trimestre ['Enero', 'Febrero', 'Marzo']\n"
     ]
    }
   ],
   "source": [
    "# Els mesos del primer trimestre.\n",
    "print(\"mesos del primer trimestre\", any[0])\n"
   ]
  },
  {
   "cell_type": "code",
   "execution_count": 11,
   "id": "c65f63b2",
   "metadata": {},
   "outputs": [
    {
     "name": "stdout",
     "output_type": "stream",
     "text": [
      "Septiembre i Octubre\n"
     ]
    }
   ],
   "source": [
    "# Setembre i octubre\n",
    "print(any[2][2], \"i\", any[3][0])"
   ]
  },
  {
   "cell_type": "code",
   "execution_count": 13,
   "id": "c172b5c9",
   "metadata": {},
   "outputs": [],
   "source": [
    "#Exercici 3\n",
    "#Crea una llista amb nombres desordenats i respon a les següents preguntes:\n",
    "num = [5,12,8,0,1,6,7,66,14,52,59,6,3,0,4,5,8,25,93,3,86,4,1,4,7,8,9,51,23,2,62,56,5,10]"
   ]
  },
  {
   "cell_type": "code",
   "execution_count": 14,
   "id": "c04f1d3c",
   "metadata": {},
   "outputs": [
    {
     "name": "stdout",
     "output_type": "stream",
     "text": [
      "hi ha 34 números.\n"
     ]
    }
   ],
   "source": [
    "#Quants números hi ha?\n",
    "print(\"hi ha\", len(num), \"números.\")"
   ]
  },
  {
   "cell_type": "code",
   "execution_count": 15,
   "id": "2083cd06",
   "metadata": {},
   "outputs": [
    {
     "name": "stdout",
     "output_type": "stream",
     "text": [
      "el número 3 aparaeix 2 vegades.\n"
     ]
    }
   ],
   "source": [
    "#Quantes vegades apareix el número 3.\n",
    "x = num.count(3)\n",
    "print(\"el número 3 aparaeix\",x, \"vegades.\")"
   ]
  },
  {
   "cell_type": "code",
   "execution_count": 16,
   "id": "358fc54b",
   "metadata": {},
   "outputs": [
    {
     "name": "stdout",
     "output_type": "stream",
     "text": [
      "el número 3 i 4 apareixen 5 vegades.\n"
     ]
    }
   ],
   "source": [
    "#Quantes vegades apareixen els nombres 3 i 4?\n",
    "y = num.count(3) + num.count(4)\n",
    "print(\"el número 3 i 4 apareixen\",y, \"vegades.\")"
   ]
  },
  {
   "cell_type": "code",
   "execution_count": 17,
   "id": "4a433159",
   "metadata": {},
   "outputs": [
    {
     "name": "stdout",
     "output_type": "stream",
     "text": [
      "número més gran és  93\n"
     ]
    }
   ],
   "source": [
    "#Quin és el número més gran?\n",
    "num.sort()\n",
    "print(\"número més gran és \" , num[-1])"
   ]
  },
  {
   "cell_type": "code",
   "execution_count": 18,
   "id": "6e5fdd4a",
   "metadata": {},
   "outputs": [
    {
     "name": "stdout",
     "output_type": "stream",
     "text": [
      "els 3 números més petits:  [0, 0, 1]\n"
     ]
    }
   ],
   "source": [
    "#Quins són els 3 números més petits?\n",
    "print(\"els 3 números més petits: \", num[0:3])"
   ]
  },
  {
   "cell_type": "code",
   "execution_count": 12,
   "id": "fe595e8e",
   "metadata": {},
   "outputs": [
    {
     "name": "stdout",
     "output_type": "stream",
     "text": [
      "Rango de la lista es del  0  al  93\n"
     ]
    }
   ],
   "source": [
    "#Quin és el rang d’aquesta llista?\n",
    "print(\"Rango de la lista es del \", num[0],\" al \", num[-1] )"
   ]
  },
  {
   "cell_type": "code",
   "execution_count": 23,
   "id": "9176b847",
   "metadata": {},
   "outputs": [
    {
     "name": "stdout",
     "output_type": "stream",
     "text": [
      "{'Pomes': {'Qty': 5, '€': 0.42}, 'Peres': {'Qty': 3, '€': 0.66}}\n"
     ]
    }
   ],
   "source": [
    "#Exercici 4\n",
    "#Crea un diccionari de la següent forma i respon a les preguntes:\n",
    "compra = { \"Pomes\" : {\"Qty\": 5, \"€\": 0.42}, \"Peres\" : {\"Qty\": 3, \"€\": 0.66} }\n",
    "print(compra)\n"
   ]
  },
  {
   "cell_type": "code",
   "execution_count": 19,
   "id": "c5ae23b5",
   "metadata": {},
   "outputs": [
    {
     "name": "stdout",
     "output_type": "stream",
     "text": [
      "{'Pomes': {'Qty': 5, '€': 0.42}, 'Peres': {'Qty': 3, '€': 0.66}, 'Kiwi': {'Qty': 5, '€': 0.42}}\n"
     ]
    }
   ],
   "source": [
    "#Afegeix alguna fruita més\n",
    "compra[\"Kiwi\"] =  {\"Qty\": 5,\"€\": 0.42}\n",
    "print(compra)"
   ]
  },
  {
   "cell_type": "code",
   "execution_count": 31,
   "id": "b336482f",
   "metadata": {},
   "outputs": [
    {
     "name": "stdout",
     "output_type": "stream",
     "text": [
      "{'Pomes': {'Qty': 5, '€': 0.42}, 'Peres': {'Qty': 3, '€': 0.66}}\n",
      "preu total peres= 1.98\n"
     ]
    }
   ],
   "source": [
    "#Quant han costat les peres en total?\n",
    "print(\"preu total peres=\" , compra[\"Peres\"][\"Qty\"]*compra[\"Peres\"][\"€\"])"
   ]
  },
  {
   "cell_type": "code",
   "execution_count": 6,
   "id": "a4af9757",
   "metadata": {},
   "outputs": [
    {
     "name": "stdout",
     "output_type": "stream",
     "text": [
      "8\n"
     ]
    }
   ],
   "source": [
    "#Quantes fruites hem comprat en total?\n",
    "def sumaFrutas (compra):\n",
    "    suma = 0\n",
    "    for x in compra:\n",
    "        suma +=compra[x][\"Qty\"]\n",
    "    return(suma)\n",
    "\n",
    "\n",
    "compra = { \"Pomes\" : {\"Qty\": 5, \"€\": 0.42}, \"Peres\" : {\"Qty\": 3, \"€\": 0.66} }\n",
    "print(sumaFrutas(compra))"
   ]
  },
  {
   "cell_type": "code",
   "execution_count": 7,
   "id": "c83a82b0",
   "metadata": {},
   "outputs": [
    {
     "name": "stdout",
     "output_type": "stream",
     "text": [
      "0.66\n"
     ]
    }
   ],
   "source": [
    "#Quina és la fruita més cara?\n",
    "def frutaMasCara (compra):\n",
    "    precio = 0;\n",
    "    for x in compra:\n",
    "        if compra[x][\"€\"] > precio:\n",
    "            precio = compra[x][\"€\"]\n",
    "    return precio\n",
    "print(frutaMasCara(compra))\n",
    "        "
   ]
  }
 ],
 "metadata": {
  "kernelspec": {
   "display_name": "Python 3 (ipykernel)",
   "language": "python",
   "name": "python3"
  },
  "language_info": {
   "codemirror_mode": {
    "name": "ipython",
    "version": 3
   },
   "file_extension": ".py",
   "mimetype": "text/x-python",
   "name": "python",
   "nbconvert_exporter": "python",
   "pygments_lexer": "ipython3",
   "version": "3.10.9"
  }
 },
 "nbformat": 4,
 "nbformat_minor": 5
}
